{
 "cells": [
  {
   "cell_type": "code",
   "execution_count": null,
   "metadata": {},
   "outputs": [],
   "source": [
    "import re\n",
    "\n",
    "c = 0\n",
    "\n",
    "fname = \"hoge.txt\" #元のtxtファイル\n",
    "\n",
    "with open(fname) as d_file, \\\n",
    "        open(\"hogehoge.txt\", mode = \"w\") as ac_file:\n",
    "        #改行消した後のtxtファイル\n",
    "\n",
    "        for line in d_file:\n",
    "\n",
    "            mod = re.sub(\"^\\n$\", \"\", line)\n",
    "            if len(mod) == 0:\n",
    "                if c > 3:\n",
    "                    ac_file.write(\"\\n\")\n",
    "                c += 1\n",
    "            else:\n",
    "                c = 0\n",
    "\n",
    "            ac_file.write(mod)"
   ]
  }
 ],
 "metadata": {
  "kernelspec": {
   "display_name": "Python 3",
   "language": "python",
   "name": "python3"
  },
  "language_info": {
   "codemirror_mode": {
    "name": "ipython",
    "version": 3
   },
   "file_extension": ".py",
   "mimetype": "text/x-python",
   "name": "python",
   "nbconvert_exporter": "python",
   "pygments_lexer": "ipython3",
   "version": "3.6.6"
  }
 },
 "nbformat": 4,
 "nbformat_minor": 2
}
