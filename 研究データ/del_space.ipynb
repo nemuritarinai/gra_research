{
 "cells": [
  {
   "cell_type": "code",
   "execution_count": 18,
   "metadata": {},
   "outputs": [],
   "source": [
    "import re\n",
    "import glob\n",
    "\n",
    "l = glob.glob(\"old/*.txt\")\n",
    "\n",
    "c = 0\n",
    "\n",
    "#fname = \"old/100kai.txt\" #元のtxtファイル\n",
    "\n",
    "for i,name in enumerate(l):\n",
    "    with open(name) as d_file, \\\n",
    "        open(name+\".txt\", mode = \"w\") as ac_file:\n",
    "            for line in d_file:\n",
    "                mod = re.sub(\"^\\n$\", \"\", line)\n",
    "                if len(mod) == 0:\n",
    "                    if c > 3:\n",
    "                        ac_file.write(\"\\n\")\n",
    "                    c += 1\n",
    "                else:\n",
    "                    c = 0\n",
    "\n",
    "                ac_file.write(mod)"
   ]
  }
 ],
 "metadata": {
  "kernelspec": {
   "display_name": "Python 3",
   "language": "python",
   "name": "python3"
  },
  "language_info": {
   "codemirror_mode": {
    "name": "ipython",
    "version": 3
   },
   "file_extension": ".py",
   "mimetype": "text/x-python",
   "name": "python",
   "nbconvert_exporter": "python",
   "pygments_lexer": "ipython3",
   "version": "3.6.6"
  }
 },
 "nbformat": 4,
 "nbformat_minor": 2
}
